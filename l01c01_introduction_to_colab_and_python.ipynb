{
 "cells": [
  {
   "cell_type": "markdown",
   "id": "acc147bb",
   "metadata": {},
   "source": [
    "# Introduction to Colab and Python\n",
    "\n",
    "Welcome to this notebook! Here you'll get a quick introduction to the Python programming language and Google Colab environment. We'll cover Python basics, functions, loops, numpy, and Colab-specific commands.\n",
    "\n",
    "---"
   ]
  },
  {
   "cell_type": "markdown",
   "id": "497633ce",
   "metadata": {},
   "source": [
    "## 1. Print Statements in Python\n",
    "Demonstrate basic print statements in Python, such as printing 'Hello World'."
   ]
  },
  {
   "cell_type": "code",
   "execution_count": null,
   "id": "7b9a3f47",
   "metadata": {},
   "outputs": [],
   "source": [
    "print(\"Hello World\")"
   ]
  },
  {
   "cell_type": "markdown",
   "id": "c9f8ae3c",
   "metadata": {},
   "source": [
    "## 2. Defining and Using Functions\n",
    "Show how to define a Python function with conditionals and call it from a loop."
   ]
  },
  {
   "cell_type": "code",
   "execution_count": null,
   "id": "f5bd8e40",
   "metadata": {},
   "outputs": [],
   "source": [
    "def HelloWorldXY(x, y):\n",
    "    if x < 10:\n",
    "        print(\"Hello World, x was < 10\")\n",
    "    elif x < 20:\n",
    "        print(\"Hello World, x was >= 10 but < 20\")\n",
    "    else:\n",
    "        print(\"Hello World, x was >= 20\")\n",
    "    return x + y\n",
    "\n",
    "for i in range(8, 25, 5):  # i=8, 13, 18, 23\n",
    "    print(\"--- Now running with i:\", i)\n",
    "    r = HelloWorldXY(i, i)\n",
    "    print(\"Result from HelloWorld:\", r)\n",
    "\n",
    "print(HelloWorldXY(1, 2))"
   ]
  },
  {
   "cell_type": "markdown",
   "id": "40e0839f",
   "metadata": {},
   "source": [
    "## 3. Loops and Iteration\n",
    "Illustrate different ways to iterate in Python: for loops with range, for loops over lists, and while loops."
   ]
  },
  {
   "cell_type": "code",
   "execution_count": null,
   "id": "38d202b0",
   "metadata": {},
   "outputs": [],
   "source": [
    "print(\"Iterate over the items. `range(2)` is like a list [0,1].\")\n",
    "for i in range(2):\n",
    "    print(i)\n",
    "\n",
    "print(\"Iterate over an actual list.\")\n",
    "for i in [0,1]:\n",
    "    print(i)\n",
    "\n",
    "print(\"While works\")\n",
    "i = 0\n",
    "while i < 2:\n",
    "    print(i)\n",
    "    i += 1"
   ]
  },
  {
   "cell_type": "markdown",
   "id": "ed63e022",
   "metadata": {},
   "source": [
    "## 4. Using Continue and Break in Loops\n",
    "Demonstrate the use of 'continue' and 'break' statements in loops."
   ]
  },
  {
   "cell_type": "code",
   "execution_count": null,
   "id": "579aa1b2",
   "metadata": {},
   "outputs": [],
   "source": [
    "print(\"Python supports standard key words like continue and break\")\n",
    "while True:\n",
    "    print(\"Entered while\")\n",
    "    break"
   ]
  },
  {
   "cell_type": "markdown",
   "id": "033e7e41",
   "metadata": {},
   "source": [
    "## 5. Working with Numpy Arrays\n",
    "Import numpy, create arrays, append elements, and iterate over arrays using for and enumerate."
   ]
  },
  {
   "cell_type": "code",
   "execution_count": null,
   "id": "d9a1b0f4",
   "metadata": {},
   "outputs": [],
   "source": [
    "import numpy as np  # Make numpy available using np.\n",
    "\n",
    "# Create a numpy array, and append an element\n",
    "a = np.array([\"Hello\", \"World\"])\n",
    "a = np.append(a, \"!\")\n",
    "print(\"Current array:\", a)\n",
    "print(\"Printing each element\")\n",
    "for i in a:\n",
    "    print(i)\n",
    "\n",
    "print(\"\\nPrinting each element and their index\")\n",
    "for i, e in enumerate(a):\n",
    "    print(f\"Index: {i}, was: {e}\")"
   ]
  },
  {
   "cell_type": "markdown",
   "id": "5b35725e",
   "metadata": {},
   "source": [
    "## 6. Basic Math Operations with Numpy\n",
    "Show how to compute max, average, and argmax on numpy arrays."
   ]
  },
  {
   "cell_type": "code",
   "execution_count": null,
   "id": "e94f4fad",
   "metadata": {},
   "outputs": [],
   "source": [
    "print(\"\\nShowing some basic math on arrays\")\n",
    "b = np.array([0,1,4,3,2])\n",
    "print(\"Max:\", np.max(b))\n",
    "print(\"Average:\", np.average(b))\n",
    "print(\"Max index:\", np.argmax(b))"
   ]
  },
  {
   "cell_type": "markdown",
   "id": "3715e409",
   "metadata": {},
   "source": [
    "## 7. Inspecting Types and Shapes\n",
    "Print the type of numpy arrays and their elements, and display the shape of arrays."
   ]
  },
  {
   "cell_type": "code",
   "execution_count": null,
   "id": "82a5daff",
   "metadata": {},
   "outputs": [],
   "source": [
    "print(\"\\nYou can print the type of anything\")\n",
    "print(\"Type of b:\", type(b), \", type of b[0]:\", type(b[0]))"
   ]
  },
  {
   "cell_type": "code",
   "execution_count": null,
   "id": "0d08216b",
   "metadata": {},
   "outputs": [],
   "source": [
    "print(\"\\nUse numpy to create a [3,3] dimension array with random number\")\n",
    "c = np.random.rand(3, 3)\n",
    "print(c)\n",
    "\n",
    "print(\"\\nYou can print the dimensions of arrays\")\n",
    "print(\"Shape of a:\", a.shape)\n",
    "print(\"Shape of b:\", b.shape)\n",
    "print(\"Shape of c:\", c.shape)\n",
    "print(\"...Observe, Python uses both [0,1,2] and (0,1,2) to specify lists\")"
   ]
  },
  {
   "cell_type": "markdown",
   "id": "6fc65f37",
   "metadata": {},
   "source": [
    "## 9. Colab Terminal Commands\n",
    "Run shell commands in Colab using !ls, !pwd, and !pip install."
   ]
  },
  {
   "cell_type": "code",
   "execution_count": null,
   "id": "d2ee152f",
   "metadata": {},
   "outputs": [],
   "source": [
    "print(\"\\nDoing $ls on filesystem\")\n",
    "!ls -l\n",
    "!pwd\n",
    "print(\"Install numpy\")  # Just for test, numpy is actually preinstalled in all Colab instances\n",
    "!pip install numpy"
   ]
  },
  {
   "cell_type": "markdown",
   "id": "5c475713",
   "metadata": {},
   "source": [
    "## 10. Exercise: Directory Navigation in Colab\n",
    "List the current directory, change to root, and list its contents using Colab terminal commands."
   ]
  },
  {
   "cell_type": "code",
   "execution_count": null,
   "id": "b309affc",
   "metadata": {},
   "outputs": [],
   "source": [
    "!pwd\n",
    "!cd /\n",
    "!ls -l\n",
    "print(\"Hello\")"
   ]
  }
 ],
 "metadata": {
  "language_info": {
   "name": "python"
  }
 },
 "nbformat": 4,
 "nbformat_minor": 5
}
